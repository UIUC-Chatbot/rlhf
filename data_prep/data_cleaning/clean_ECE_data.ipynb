{
 "cells": [
  {
   "cell_type": "code",
   "execution_count": 1,
   "metadata": {},
   "outputs": [],
   "source": [
    "import datasets"
   ]
  },
  {
   "cell_type": "code",
   "execution_count": 6,
   "metadata": {},
   "outputs": [
    {
     "name": "stderr",
     "output_type": "stream",
     "text": [
      "Using custom data configuration kastan--rlhf-qa-conditional-generation-v2-2465475089b4bd2f\n",
      "Found cached dataset parquet (/home/kastanday/.cache/huggingface/datasets/kastan___parquet/kastan--rlhf-qa-conditional-generation-v2-2465475089b4bd2f/0.0.0/2a3b91fbd88a2c90d1dbbb32b460cf621d31bd5b05b934492fdef7d8d6f236ec)\n"
     ]
    },
    {
     "data": {
      "application/vnd.jupyter.widget-view+json": {
       "model_id": "2632b24c939f419987ebc7fbf022eb2f",
       "version_major": 2,
       "version_minor": 0
      },
      "text/plain": [
       "  0%|          | 0/2 [00:00<?, ?it/s]"
      ]
     },
     "metadata": {},
     "output_type": "display_data"
    },
    {
     "data": {
      "text/plain": [
       "DatasetDict({\n",
       "    valid: Dataset({\n",
       "        features: ['prompt', 'completion'],\n",
       "        num_rows: 23\n",
       "    })\n",
       "    train: Dataset({\n",
       "        features: ['prompt', 'completion'],\n",
       "        num_rows: 68\n",
       "    })\n",
       "})"
      ]
     },
     "execution_count": 6,
     "metadata": {},
     "output_type": "execute_result"
    }
   ],
   "source": [
    "dataset = datasets.load_dataset(\"kastan/rlhf-qa-conditional-generation-v2\")\n",
    "dataset"
   ]
  },
  {
   "cell_type": "code",
   "execution_count": 7,
   "metadata": {},
   "outputs": [],
   "source": [
    "df_train = dataset['train'].to_pandas()"
   ]
  },
  {
   "cell_type": "code",
   "execution_count": 9,
   "metadata": {},
   "outputs": [
    {
     "data": {
      "text/html": [
       "<div>\n",
       "<style scoped>\n",
       "    .dataframe tbody tr th:only-of-type {\n",
       "        vertical-align: middle;\n",
       "    }\n",
       "\n",
       "    .dataframe tbody tr th {\n",
       "        vertical-align: top;\n",
       "    }\n",
       "\n",
       "    .dataframe thead th {\n",
       "        text-align: right;\n",
       "    }\n",
       "</style>\n",
       "<table border=\"1\" class=\"dataframe\">\n",
       "  <thead>\n",
       "    <tr style=\"text-align: right;\">\n",
       "      <th></th>\n",
       "      <th>prompt</th>\n",
       "      <th>completion</th>\n",
       "    </tr>\n",
       "  </thead>\n",
       "  <tbody>\n",
       "    <tr>\n",
       "      <th>1</th>\n",
       "      <td>What is de Morgan's Law?</td>\n",
       "      <td>De Morgan’s Law is a way to find out an altern...</td>\n",
       "    </tr>\n",
       "    <tr>\n",
       "      <th>2</th>\n",
       "      <td>What would I use a register for?</td>\n",
       "      <td>A register is a circuit that is used to both s...</td>\n",
       "    </tr>\n",
       "    <tr>\n",
       "      <th>3</th>\n",
       "      <td>How can I make an AND gate out of an OR gate a...</td>\n",
       "      <td>Use one inverter on each input of the OR gate,...</td>\n",
       "    </tr>\n",
       "    <tr>\n",
       "      <th>4</th>\n",
       "      <td>Why are some numbers not accurately represente...</td>\n",
       "      <td>Some decimal values do not have an exact/finit...</td>\n",
       "    </tr>\n",
       "    <tr>\n",
       "      <th>5</th>\n",
       "      <td>How does an FSM work?</td>\n",
       "      <td>A finite state machine (FSM) is a mathematical...</td>\n",
       "    </tr>\n",
       "    <tr>\n",
       "      <th>...</th>\n",
       "      <td>...</td>\n",
       "      <td>...</td>\n",
       "    </tr>\n",
       "    <tr>\n",
       "      <th>61</th>\n",
       "      <td>What is the TRAP Instruction and why is it use...</td>\n",
       "      <td>The TRAP instruction, also known as the HALT i...</td>\n",
       "    </tr>\n",
       "    <tr>\n",
       "      <th>63</th>\n",
       "      <td>How do we create Loops and Conditionals using ...</td>\n",
       "      <td>One of the Instructions that any computing sys...</td>\n",
       "    </tr>\n",
       "    <tr>\n",
       "      <th>64</th>\n",
       "      <td>What are opcodes and how are they used in asse...</td>\n",
       "      <td>The Opcode is a symbolic name for the opcode o...</td>\n",
       "    </tr>\n",
       "    <tr>\n",
       "      <th>66</th>\n",
       "      <td>Why would I use NAND or NOR gates instead of r...</td>\n",
       "      <td>A universal gate such as a NAND or NOR is easi...</td>\n",
       "    </tr>\n",
       "    <tr>\n",
       "      <th>67</th>\n",
       "      <td>What is the AND function used for?</td>\n",
       "      <td>The AND function performs a logical AND operat...</td>\n",
       "    </tr>\n",
       "  </tbody>\n",
       "</table>\n",
       "<p>62 rows × 2 columns</p>\n",
       "</div>"
      ],
      "text/plain": [
       "                                               prompt  \\\n",
       "1                            What is de Morgan's Law?   \n",
       "2                    What would I use a register for?   \n",
       "3   How can I make an AND gate out of an OR gate a...   \n",
       "4   Why are some numbers not accurately represente...   \n",
       "5                               How does an FSM work?   \n",
       "..                                                ...   \n",
       "61  What is the TRAP Instruction and why is it use...   \n",
       "63  How do we create Loops and Conditionals using ...   \n",
       "64  What are opcodes and how are they used in asse...   \n",
       "66  Why would I use NAND or NOR gates instead of r...   \n",
       "67                 What is the AND function used for?   \n",
       "\n",
       "                                           completion  \n",
       "1   De Morgan’s Law is a way to find out an altern...  \n",
       "2   A register is a circuit that is used to both s...  \n",
       "3   Use one inverter on each input of the OR gate,...  \n",
       "4   Some decimal values do not have an exact/finit...  \n",
       "5   A finite state machine (FSM) is a mathematical...  \n",
       "..                                                ...  \n",
       "61  The TRAP instruction, also known as the HALT i...  \n",
       "63  One of the Instructions that any computing sys...  \n",
       "64  The Opcode is a symbolic name for the opcode o...  \n",
       "66  A universal gate such as a NAND or NOR is easi...  \n",
       "67  The AND function performs a logical AND operat...  \n",
       "\n",
       "[62 rows x 2 columns]"
      ]
     },
     "execution_count": 9,
     "metadata": {},
     "output_type": "execute_result"
    }
   ],
   "source": [
    "# 0,12,14,49,62,65\n",
    "\n",
    "df_train = df_train.drop(index=[0,12,14,49,62,65])\n",
    "df_train\n"
   ]
  },
  {
   "cell_type": "code",
   "execution_count": 10,
   "metadata": {},
   "outputs": [],
   "source": [
    "df_valid = dataset['valid'].to_pandas()"
   ]
  },
  {
   "cell_type": "code",
   "execution_count": null,
   "metadata": {},
   "outputs": [],
   "source": [
    "# \n",
    "df_valid = df_valid.drop(index=[ ])\n",
    "df_valid\n"
   ]
  },
  {
   "cell_type": "code",
   "execution_count": 11,
   "metadata": {},
   "outputs": [
    {
     "data": {
      "text/html": [
       "<div>\n",
       "<style scoped>\n",
       "    .dataframe tbody tr th:only-of-type {\n",
       "        vertical-align: middle;\n",
       "    }\n",
       "\n",
       "    .dataframe tbody tr th {\n",
       "        vertical-align: top;\n",
       "    }\n",
       "\n",
       "    .dataframe thead th {\n",
       "        text-align: right;\n",
       "    }\n",
       "</style>\n",
       "<table border=\"1\" class=\"dataframe\">\n",
       "  <thead>\n",
       "    <tr style=\"text-align: right;\">\n",
       "      <th></th>\n",
       "      <th>prompt</th>\n",
       "      <th>completion</th>\n",
       "    </tr>\n",
       "  </thead>\n",
       "  <tbody>\n",
       "    <tr>\n",
       "      <th>0</th>\n",
       "      <td>What is de Morgan's Law?</td>\n",
       "      <td>De Morgan’s Law is a way to find out an altern...</td>\n",
       "    </tr>\n",
       "    <tr>\n",
       "      <th>1</th>\n",
       "      <td>What would I use a register for?</td>\n",
       "      <td>A register is a circuit that is used to both s...</td>\n",
       "    </tr>\n",
       "    <tr>\n",
       "      <th>2</th>\n",
       "      <td>How can I make an AND gate out of an OR gate a...</td>\n",
       "      <td>Use one inverter on each input of the OR gate,...</td>\n",
       "    </tr>\n",
       "    <tr>\n",
       "      <th>3</th>\n",
       "      <td>Why are some numbers not accurately represente...</td>\n",
       "      <td>Some decimal values do not have an exact/finit...</td>\n",
       "    </tr>\n",
       "    <tr>\n",
       "      <th>4</th>\n",
       "      <td>How does an FSM work?</td>\n",
       "      <td>A finite state machine (FSM) is a mathematical...</td>\n",
       "    </tr>\n",
       "    <tr>\n",
       "      <th>...</th>\n",
       "      <td>...</td>\n",
       "      <td>...</td>\n",
       "    </tr>\n",
       "    <tr>\n",
       "      <th>80</th>\n",
       "      <td>Why would I use fixed-point representation?</td>\n",
       "      <td>Fixed-point operations can be implemented with...</td>\n",
       "    </tr>\n",
       "    <tr>\n",
       "      <th>81</th>\n",
       "      <td>What is the purpose of an FSM?</td>\n",
       "      <td>The purpose of an FSM is to design a counter t...</td>\n",
       "    </tr>\n",
       "    <tr>\n",
       "      <th>82</th>\n",
       "      <td>What is the purpose of using a Gray code basis...</td>\n",
       "      <td>The Gray code basis for the state sequence is ...</td>\n",
       "    </tr>\n",
       "    <tr>\n",
       "      <th>83</th>\n",
       "      <td>What is the purpose of the ``halt'' button?</td>\n",
       "      <td>The ``halt'' button is used to stop the counte...</td>\n",
       "    </tr>\n",
       "    <tr>\n",
       "      <th>84</th>\n",
       "      <td>How do I indicate the end of the program in an...</td>\n",
       "      <td>The .END directive indicates to the LC-3 assem...</td>\n",
       "    </tr>\n",
       "  </tbody>\n",
       "</table>\n",
       "<p>85 rows × 2 columns</p>\n",
       "</div>"
      ],
      "text/plain": [
       "                                               prompt  \\\n",
       "0                            What is de Morgan's Law?   \n",
       "1                    What would I use a register for?   \n",
       "2   How can I make an AND gate out of an OR gate a...   \n",
       "3   Why are some numbers not accurately represente...   \n",
       "4                               How does an FSM work?   \n",
       "..                                                ...   \n",
       "80        Why would I use fixed-point representation?   \n",
       "81                     What is the purpose of an FSM?   \n",
       "82  What is the purpose of using a Gray code basis...   \n",
       "83        What is the purpose of the ``halt'' button?   \n",
       "84  How do I indicate the end of the program in an...   \n",
       "\n",
       "                                           completion  \n",
       "0   De Morgan’s Law is a way to find out an altern...  \n",
       "1   A register is a circuit that is used to both s...  \n",
       "2   Use one inverter on each input of the OR gate,...  \n",
       "3   Some decimal values do not have an exact/finit...  \n",
       "4   A finite state machine (FSM) is a mathematical...  \n",
       "..                                                ...  \n",
       "80  Fixed-point operations can be implemented with...  \n",
       "81  The purpose of an FSM is to design a counter t...  \n",
       "82  The Gray code basis for the state sequence is ...  \n",
       "83  The ``halt'' button is used to stop the counte...  \n",
       "84  The .END directive indicates to the LC-3 assem...  \n",
       "\n",
       "[85 rows x 2 columns]"
      ]
     },
     "execution_count": 11,
     "metadata": {},
     "output_type": "execute_result"
    }
   ],
   "source": [
    "# stack df_train to df_valid\n",
    "import pandas as pd\n",
    "both = pd.concat([df_train, df_valid], ignore_index=True)\n",
    "both"
   ]
  },
  {
   "cell_type": "code",
   "execution_count": 12,
   "metadata": {},
   "outputs": [
    {
     "data": {
      "text/html": [
       "<div>\n",
       "<style scoped>\n",
       "    .dataframe tbody tr th:only-of-type {\n",
       "        vertical-align: middle;\n",
       "    }\n",
       "\n",
       "    .dataframe tbody tr th {\n",
       "        vertical-align: top;\n",
       "    }\n",
       "\n",
       "    .dataframe thead th {\n",
       "        text-align: right;\n",
       "    }\n",
       "</style>\n",
       "<table border=\"1\" class=\"dataframe\">\n",
       "  <thead>\n",
       "    <tr style=\"text-align: right;\">\n",
       "      <th></th>\n",
       "      <th>prompt</th>\n",
       "      <th>completion</th>\n",
       "    </tr>\n",
       "  </thead>\n",
       "  <tbody>\n",
       "    <tr>\n",
       "      <th>1</th>\n",
       "      <td>What would I use a register for?</td>\n",
       "      <td>A register is a circuit that is used to both s...</td>\n",
       "    </tr>\n",
       "    <tr>\n",
       "      <th>2</th>\n",
       "      <td>How can I make an AND gate out of an OR gate a...</td>\n",
       "      <td>Use one inverter on each input of the OR gate,...</td>\n",
       "    </tr>\n",
       "    <tr>\n",
       "      <th>3</th>\n",
       "      <td>Why are some numbers not accurately represente...</td>\n",
       "      <td>Some decimal values do not have an exact/finit...</td>\n",
       "    </tr>\n",
       "    <tr>\n",
       "      <th>4</th>\n",
       "      <td>How does an FSM work?</td>\n",
       "      <td>A finite state machine (FSM) is a mathematical...</td>\n",
       "    </tr>\n",
       "    <tr>\n",
       "      <th>5</th>\n",
       "      <td>What is a tri-state buffer used for?</td>\n",
       "      <td>A tri-state buffer is a digital logic gate tha...</td>\n",
       "    </tr>\n",
       "    <tr>\n",
       "      <th>...</th>\n",
       "      <td>...</td>\n",
       "      <td>...</td>\n",
       "    </tr>\n",
       "    <tr>\n",
       "      <th>78</th>\n",
       "      <td>Why can’t I add large numbers (greater than #1...</td>\n",
       "      <td>The LC3 ADD opcode only leaves 5 bits for imme...</td>\n",
       "    </tr>\n",
       "    <tr>\n",
       "      <th>80</th>\n",
       "      <td>Why would I use fixed-point representation?</td>\n",
       "      <td>Fixed-point operations can be implemented with...</td>\n",
       "    </tr>\n",
       "    <tr>\n",
       "      <th>81</th>\n",
       "      <td>What is the purpose of an FSM?</td>\n",
       "      <td>The purpose of an FSM is to design a counter t...</td>\n",
       "    </tr>\n",
       "    <tr>\n",
       "      <th>82</th>\n",
       "      <td>What is the purpose of using a Gray code basis...</td>\n",
       "      <td>The Gray code basis for the state sequence is ...</td>\n",
       "    </tr>\n",
       "    <tr>\n",
       "      <th>83</th>\n",
       "      <td>What is the purpose of the ``halt'' button?</td>\n",
       "      <td>The ``halt'' button is used to stop the counte...</td>\n",
       "    </tr>\n",
       "  </tbody>\n",
       "</table>\n",
       "<p>71 rows × 2 columns</p>\n",
       "</div>"
      ],
      "text/plain": [
       "                                               prompt  \\\n",
       "1                    What would I use a register for?   \n",
       "2   How can I make an AND gate out of an OR gate a...   \n",
       "3   Why are some numbers not accurately represente...   \n",
       "4                               How does an FSM work?   \n",
       "5                What is a tri-state buffer used for?   \n",
       "..                                                ...   \n",
       "78  Why can’t I add large numbers (greater than #1...   \n",
       "80        Why would I use fixed-point representation?   \n",
       "81                     What is the purpose of an FSM?   \n",
       "82  What is the purpose of using a Gray code basis...   \n",
       "83        What is the purpose of the ``halt'' button?   \n",
       "\n",
       "                                           completion  \n",
       "1   A register is a circuit that is used to both s...  \n",
       "2   Use one inverter on each input of the OR gate,...  \n",
       "3   Some decimal values do not have an exact/finit...  \n",
       "4   A finite state machine (FSM) is a mathematical...  \n",
       "5   A tri-state buffer is a digital logic gate tha...  \n",
       "..                                                ...  \n",
       "78  The LC3 ADD opcode only leaves 5 bits for imme...  \n",
       "80  Fixed-point operations can be implemented with...  \n",
       "81  The purpose of an FSM is to design a counter t...  \n",
       "82  The Gray code basis for the state sequence is ...  \n",
       "83  The ``halt'' button is used to stop the counte...  \n",
       "\n",
       "[71 rows x 2 columns]"
      ]
     },
     "execution_count": 12,
     "metadata": {},
     "output_type": "execute_result"
    }
   ],
   "source": [
    "both.drop_duplicates(subset='prompt', keep = False, inplace=True)\n",
    "both"
   ]
  },
  {
   "cell_type": "code",
   "execution_count": 13,
   "metadata": {},
   "outputs": [
    {
     "data": {
      "text/plain": [
       "DatasetDict({\n",
       "    train: Dataset({\n",
       "        features: ['prompt', 'completion'],\n",
       "        num_rows: 56\n",
       "    })\n",
       "    test: Dataset({\n",
       "        features: ['prompt', 'completion'],\n",
       "        num_rows: 15\n",
       "    })\n",
       "})"
      ]
     },
     "execution_count": 13,
     "metadata": {},
     "output_type": "execute_result"
    }
   ],
   "source": [
    "from datasets import Dataset\n",
    "both = both.reset_index(drop=True)\n",
    "\n",
    "datasets_cleaned = Dataset.from_pandas(both).train_test_split(test_size=0.2)\n",
    "datasets_cleaned"
   ]
  },
  {
   "cell_type": "code",
   "execution_count": 14,
   "metadata": {},
   "outputs": [
    {
     "data": {
      "text/plain": [
       "DatasetDict({\n",
       "    train: Dataset({\n",
       "        features: ['prompt', 'completion'],\n",
       "        num_rows: 56\n",
       "    })\n",
       "    valid: Dataset({\n",
       "        features: ['prompt', 'completion'],\n",
       "        num_rows: 15\n",
       "    })\n",
       "})"
      ]
     },
     "execution_count": 14,
     "metadata": {},
     "output_type": "execute_result"
    }
   ],
   "source": [
    "datasets_cleaned['valid'] = datasets_cleaned['test']\n",
    "del datasets_cleaned['test']\n",
    "datasets_cleaned\n",
    "\n"
   ]
  },
  {
   "cell_type": "code",
   "execution_count": 15,
   "metadata": {},
   "outputs": [
    {
     "name": "stderr",
     "output_type": "stream",
     "text": [
      "Pushing split train to the Hub.\n"
     ]
    },
    {
     "data": {
      "application/vnd.jupyter.widget-view+json": {
       "model_id": "c75c0188baf54c188aa154d46f3a8910",
       "version_major": 2,
       "version_minor": 0
      },
      "text/plain": [
       "Pushing dataset shards to the dataset hub:   0%|          | 0/1 [00:00<?, ?it/s]"
      ]
     },
     "metadata": {},
     "output_type": "display_data"
    },
    {
     "data": {
      "application/vnd.jupyter.widget-view+json": {
       "model_id": "12a64c76bdae4fd59f8471d9276948fd",
       "version_major": 2,
       "version_minor": 0
      },
      "text/plain": [
       "Creating parquet from Arrow format:   0%|          | 0/1 [00:00<?, ?ba/s]"
      ]
     },
     "metadata": {},
     "output_type": "display_data"
    },
    {
     "data": {
      "application/vnd.jupyter.widget-view+json": {
       "model_id": "082d078ffe7a4e0bba67facc8e026044",
       "version_major": 2,
       "version_minor": 0
      },
      "text/plain": [
       "Upload 1 LFS files:   0%|          | 0/1 [00:00<?, ?it/s]"
      ]
     },
     "metadata": {},
     "output_type": "display_data"
    },
    {
     "data": {
      "application/vnd.jupyter.widget-view+json": {
       "model_id": "1595bffaf0974865802ff9b2ea500f21",
       "version_major": 2,
       "version_minor": 0
      },
      "text/plain": [
       "Deleting unused files from dataset repository:   0%|          | 0/1 [00:00<?, ?it/s]"
      ]
     },
     "metadata": {},
     "output_type": "display_data"
    },
    {
     "name": "stderr",
     "output_type": "stream",
     "text": [
      "Pushing split valid to the Hub.\n"
     ]
    },
    {
     "data": {
      "application/vnd.jupyter.widget-view+json": {
       "model_id": "2150701efa0947c4b218be24de8a29ec",
       "version_major": 2,
       "version_minor": 0
      },
      "text/plain": [
       "Pushing dataset shards to the dataset hub:   0%|          | 0/1 [00:00<?, ?it/s]"
      ]
     },
     "metadata": {},
     "output_type": "display_data"
    },
    {
     "data": {
      "application/vnd.jupyter.widget-view+json": {
       "model_id": "c176e2767a4743f08fb4e8a2dcde2b0a",
       "version_major": 2,
       "version_minor": 0
      },
      "text/plain": [
       "Creating parquet from Arrow format:   0%|          | 0/1 [00:00<?, ?ba/s]"
      ]
     },
     "metadata": {},
     "output_type": "display_data"
    },
    {
     "data": {
      "application/vnd.jupyter.widget-view+json": {
       "model_id": "4ea2372dfa00479faf9ff7d96abc275b",
       "version_major": 2,
       "version_minor": 0
      },
      "text/plain": [
       "Upload 1 LFS files:   0%|          | 0/1 [00:00<?, ?it/s]"
      ]
     },
     "metadata": {},
     "output_type": "display_data"
    },
    {
     "data": {
      "application/vnd.jupyter.widget-view+json": {
       "model_id": "7ee293ead9c94911a32368283d37b94d",
       "version_major": 2,
       "version_minor": 0
      },
      "text/plain": [
       "Deleting unused files from dataset repository:   0%|          | 0/1 [00:00<?, ?it/s]"
      ]
     },
     "metadata": {},
     "output_type": "display_data"
    }
   ],
   "source": [
    "datasets_cleaned.push_to_hub(\"kastan/rlhf-qa-conditional-generation-v2\", token='')"
   ]
  },
  {
   "attachments": {},
   "cell_type": "markdown",
   "metadata": {},
   "source": [
    "# Cleaning\n",
    "\n"
   ]
  },
  {
   "cell_type": "code",
   "execution_count": null,
   "metadata": {},
   "outputs": [],
   "source": [
    "txt = \" NZP stands for Negative, Zero, Positive, and they are used to indicate to the LC-3 assembler whether the result of an operation is negative, zero, or positive.\"\n",
    "\n",
    "# x = txt.rstrip().lstrip()\n",
    "txt.rstrip().lstrip()\n",
    "\n",
    "# print(\"of all fruits\", x, \"is my favorite\")\n"
   ]
  },
  {
   "cell_type": "code",
   "execution_count": null,
   "metadata": {},
   "outputs": [],
   "source": [
    "# drug_dataset = drug_dataset.filter(lambda x: x[\"review_length\"] > 30)\n",
    "\n",
    "\n",
    "dataset = dataset.map(lambda x: {\"prompt\": x[\"prompt\"].lstrip().rstrip()})\n",
    "dataset = dataset.map(lambda x: {\"completion\": x[\"completion\"].lstrip().rstrip()})\n",
    "\n",
    "dataset"
   ]
  },
  {
   "cell_type": "code",
   "execution_count": null,
   "metadata": {},
   "outputs": [],
   "source": [
    "import pandas as pd\n",
    "train_df = pd.DataFrame(dataset[\"train\"])\n",
    "train_df.drop_duplicates(subset =\"prompt\", keep = False, inplace = True)\n",
    "train_df"
   ]
  },
  {
   "cell_type": "code",
   "execution_count": null,
   "metadata": {},
   "outputs": [],
   "source": [
    "# import pandas as pd\n",
    "valid_df = pd.DataFrame(dataset[\"valid\"])\n",
    "valid_df.drop_duplicates(subset =\"prompt\", keep = False, inplace = True)\n",
    "valid_df"
   ]
  },
  {
   "cell_type": "code",
   "execution_count": null,
   "metadata": {},
   "outputs": [],
   "source": [
    "from datasets import DatasetDict, Dataset\n",
    "\n",
    "hf_ds_dict = DatasetDict()\n",
    "\n",
    "# remove index feature\n",
    "train_df = train_df.reset_index(drop=True)\n",
    "valid_df = valid_df.reset_index(drop=True)\n",
    "\n",
    "hf_ds_dict['train'] = Dataset.from_pandas(train_df)\n",
    "hf_ds_dict['valid'] = Dataset.from_pandas(valid_df)\n",
    "hf_ds_dict"
   ]
  },
  {
   "cell_type": "code",
   "execution_count": null,
   "metadata": {},
   "outputs": [],
   "source": [
    "hf_ds_dict.push_to_hub(\"kastan/rlhf-qa-conditional-generation-v2\", token=\"\")"
   ]
  },
  {
   "cell_type": "code",
   "execution_count": null,
   "metadata": {},
   "outputs": [],
   "source": [
    "dataset_train = dataset['train'].unique(\"prompt\")\n",
    "print(len(dataset_train))\n",
    "dataset_train"
   ]
  },
  {
   "cell_type": "code",
   "execution_count": null,
   "metadata": {},
   "outputs": [],
   "source": [
    "# del dataset['train'][17]\n",
    "\n",
    "df_train = dataset_train.to_pandas()"
   ]
  },
  {
   "cell_type": "code",
   "execution_count": null,
   "metadata": {},
   "outputs": [],
   "source": [
    "# df_train = df_train.drop(df_train.index[17])\n",
    "\n",
    "df_train = df_train.drop(df_train.index[17])"
   ]
  },
  {
   "cell_type": "code",
   "execution_count": null,
   "metadata": {},
   "outputs": [],
   "source": [
    "df_train\n",
    "\n",
    "# delete row 17 from pandas dataframe\n",
    "\n",
    "\n",
    "df_train"
   ]
  },
  {
   "cell_type": "code",
   "execution_count": null,
   "metadata": {},
   "outputs": [],
   "source": [
    "import pandas as pd\n",
    "pd.set_option('display.max_colwidth', 80)\n",
    "df_train"
   ]
  },
  {
   "cell_type": "code",
   "execution_count": null,
   "metadata": {},
   "outputs": [],
   "source": [
    "from textwrap import wrap, fill \n",
    "\n",
    "for i, (prompt, completion) in enumerate(zip(dataset['train']['prompt'], dataset['train']['completion'])):\n",
    "  print(f\"Example {i}:\")\n",
    "  print(prompt)\n",
    "  print()\n",
    "  print(fill(completion, width=80))\n",
    "  print(\"-\"*20)"
   ]
  },
  {
   "cell_type": "code",
   "execution_count": null,
   "metadata": {},
   "outputs": [],
   "source": [
    "dataset['train']"
   ]
  },
  {
   "cell_type": "code",
   "execution_count": null,
   "metadata": {},
   "outputs": [],
   "source": []
  }
 ],
 "metadata": {
  "kernelspec": {
   "display_name": "torch",
   "language": "python",
   "name": "python3"
  },
  "language_info": {
   "codemirror_mode": {
    "name": "ipython",
    "version": 3
   },
   "file_extension": ".py",
   "mimetype": "text/x-python",
   "name": "python",
   "nbconvert_exporter": "python",
   "pygments_lexer": "ipython3",
   "version": "3.9.15"
  },
  "orig_nbformat": 4
 },
 "nbformat": 4,
 "nbformat_minor": 2
}
